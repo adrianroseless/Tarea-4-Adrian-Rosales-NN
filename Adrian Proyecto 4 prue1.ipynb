{
 "cells": [
  {
   "cell_type": "code",
   "execution_count": 1,
   "metadata": {},
   "outputs": [],
   "source": [
    "%matplotlib inline\n",
    "%config InlineBackend.figure_format = 'retina'\n",
    "\n",
    "import matplotlib.pyplot as plt\n",
    "import numpy as np\n",
    "import time\n",
    "\n",
    "import torch\n",
    "from torch import nn\n",
    "from torch import optim\n",
    "import torch.nn.functional as F\n",
    "from torchvision import datasets, transforms\n",
    "import json\n",
    "\n",
    "#helper was developed by Udacity under MIT license\n",
    "import helper"
   ]
  },
  {
   "cell_type": "markdown",
   "metadata": {},
   "source": [
    "## Charge and transform data "
   ]
  },
  {
   "cell_type": "code",
   "execution_count": 2,
   "metadata": {},
   "outputs": [],
   "source": [
    "data_dir = 'notMNIST_small'\n",
    "train_dir = data_dir + '/Train'\n",
    "test_dir = data_dir + '/Test'\n",
    "nThreads = 4\n",
    "batch_size = 64\n",
    "use_gpu = torch.cuda.is_available()"
   ]
  },
  {
   "cell_type": "code",
   "execution_count": 3,
   "metadata": {},
   "outputs": [],
   "source": [
    "# TODO: Define your transforms for the training, validation, and testing sets\n",
    "transform = transforms.Compose([transforms.ToTensor(),\n",
    "                                 transforms.Normalize((0.5, 0.5, 0.5), (0.5, 0.5, 0.5))])\n",
    "# TODO: Load the datasets with ImageFolder\n",
    "trainset = datasets.ImageFolder(train_dir, transform=transform)\n",
    "trainloader = torch.utils.data.DataLoader(trainset , batch_size=batch_size, shuffle=True) \n",
    "testset = datasets.ImageFolder(test_dir, transform=transform)\n",
    "testloader = torch.utils.data.DataLoader(testset, batch_size=batch_size)\n",
    "dataset_size = len(trainset + testset)\n"
   ]
  },
  {
   "cell_type": "markdown",
   "metadata": {},
   "source": [
    "## Red Neuronal "
   ]
  },
  {
   "cell_type": "code",
   "execution_count": 4,
   "metadata": {},
   "outputs": [],
   "source": [
    "class RedNeuronal(nn.Module):\n",
    "    def __init__(self, input_size, output_size, hidden_layers, drop_p):\n",
    "        '''\n",
    "        Construye una red de tamaño arbitrario.\n",
    "        \n",
    "        Parámetros:\n",
    "        input_size: cantidad de elementos en la entrada\n",
    "        output_size: cantidada de elementos en la salida \n",
    "        hidden_layers: cantidad de elementos por cada capa oculta\n",
    "        drop_p: probabilidad de \"tirar\" (drop) una neurona [0,1] \n",
    "        '''\n",
    "        # llamamos al constructor de la superclase\n",
    "        super().__init__()\n",
    "        \n",
    "        # Agregamos la primera capa\n",
    "        self.hidden_layers = nn.ModuleList([nn.Linear(input_size, hidden_layers[0])])\n",
    "        \n",
    "        # agregamos cada una de las capas, zip empareja el número de entradas con las salidas\n",
    "        layer_sizes = zip(hidden_layers[:-1], hidden_layers[1:])\n",
    "        self.hidden_layers.extend([nn.Linear(h1, h2) for h1, h2 in layer_sizes])\n",
    "        \n",
    "        # agregamos la capa de salida final de la red\n",
    "        self.output = nn.Linear(hidden_layers[-1], output_size)\n",
    "        \n",
    "        # Incluimos drop-out en la red\n",
    "        self.dropout = nn.Dropout(p=drop_p)\n",
    "        \n",
    "    def forward(self, x):\n",
    "        ''' Pase hacia adelante en la red, el regreso son las probabilidades en el dominio log '''\n",
    "        \n",
    "        # Hacemos un pase frontal en cada una de las capas ocultas, \n",
    "        # La funció de activación es un RELU combinado con dropout\n",
    "        for linear in self.hidden_layers:\n",
    "            x = F.relu(linear(x))\n",
    "            x = self.dropout(x)\n",
    "        \n",
    "        x = self.output(x)\n",
    "        \n",
    "        return F.log_softmax(x, dim=1)"
   ]
  },
  {
   "cell_type": "code",
   "execution_count": 5,
   "metadata": {},
   "outputs": [],
   "source": [
    "model = RedNeuronal(784, 10, [600, 300], drop_p=0.6)\n",
    "criterion = nn.NLLLoss()\n",
    "optimizer = optim.Adam(model.parameters(), lr=0.001)"
   ]
  },
  {
   "cell_type": "code",
   "execution_count": 6,
   "metadata": {},
   "outputs": [],
   "source": [
    "# Implementamos una función de evaluación\n",
    "def validation(model, testloader, criterion):\n",
    "    test_loss = 0\n",
    "    accuracy = 0\n",
    "    for images, labels in testloader:\n",
    "\n",
    "        images.resize_(images.shape[0], 784)\n",
    "\n",
    "        output = model.forward(images)\n",
    "        test_loss += criterion(output, labels).item()\n",
    "\n",
    "        ps = torch.exp(output)\n",
    "        equality = (labels.data == ps.max(dim=1)[1])\n",
    "        accuracy += equality.type(torch.FloatTensor).mean()\n",
    "    \n",
    "    return test_loss, accuracy"
   ]
  },
  {
   "cell_type": "markdown",
   "metadata": {},
   "source": [
    "## Entrenamiento y validacion "
   ]
  },
  {
   "cell_type": "code",
   "execution_count": 7,
   "metadata": {},
   "outputs": [
    {
     "name": "stdout",
     "output_type": "stream",
     "text": [
      "Epoch: 1/5..  Training Loss: 2.369..  Test Loss: 2.327..  Test Accuracy: 0.070\n",
      "Epoch: 1/5..  Training Loss: 2.355..  Test Loss: 2.310..  Test Accuracy: 0.073\n",
      "Epoch: 1/5..  Training Loss: 2.333..  Test Loss: 2.292..  Test Accuracy: 0.127\n",
      "Epoch: 1/5..  Training Loss: 2.327..  Test Loss: 2.297..  Test Accuracy: 0.151\n",
      "Epoch: 1/5..  Training Loss: 2.319..  Test Loss: 2.301..  Test Accuracy: 0.072\n",
      "Epoch: 2/5..  Training Loss: 2.317..  Test Loss: 2.290..  Test Accuracy: 0.112\n",
      "Epoch: 2/5..  Training Loss: 2.316..  Test Loss: 2.299..  Test Accuracy: 0.130\n",
      "Epoch: 2/5..  Training Loss: 2.313..  Test Loss: 2.293..  Test Accuracy: 0.163\n",
      "Epoch: 2/5..  Training Loss: 2.312..  Test Loss: 2.296..  Test Accuracy: 0.170\n",
      "Epoch: 2/5..  Training Loss: 2.309..  Test Loss: 2.295..  Test Accuracy: 0.103\n",
      "Epoch: 2/5..  Training Loss: 2.314..  Test Loss: 2.299..  Test Accuracy: 0.171\n",
      "Epoch: 3/5..  Training Loss: 2.312..  Test Loss: 2.299..  Test Accuracy: 0.084\n",
      "Epoch: 3/5..  Training Loss: 2.309..  Test Loss: 2.303..  Test Accuracy: 0.135\n",
      "Epoch: 3/5..  Training Loss: 2.310..  Test Loss: 2.287..  Test Accuracy: 0.152\n",
      "Epoch: 3/5..  Training Loss: 2.309..  Test Loss: 2.301..  Test Accuracy: 0.127\n",
      "Epoch: 3/5..  Training Loss: 2.308..  Test Loss: 2.305..  Test Accuracy: 0.108\n",
      "Epoch: 3/5..  Training Loss: 2.308..  Test Loss: 2.297..  Test Accuracy: 0.103\n",
      "Epoch: 4/5..  Training Loss: 2.305..  Test Loss: 2.298..  Test Accuracy: 0.106\n",
      "Epoch: 4/5..  Training Loss: 2.309..  Test Loss: 2.307..  Test Accuracy: 0.090\n",
      "Epoch: 4/5..  Training Loss: 2.307..  Test Loss: 2.300..  Test Accuracy: 0.079\n",
      "Epoch: 4/5..  Training Loss: 2.306..  Test Loss: 2.309..  Test Accuracy: 0.123\n",
      "Epoch: 4/5..  Training Loss: 2.306..  Test Loss: 2.300..  Test Accuracy: 0.131\n",
      "Epoch: 4/5..  Training Loss: 2.305..  Test Loss: 2.303..  Test Accuracy: 0.115\n",
      "Epoch: 5/5..  Training Loss: 2.305..  Test Loss: 2.303..  Test Accuracy: 0.115\n",
      "Epoch: 5/5..  Training Loss: 2.307..  Test Loss: 2.301..  Test Accuracy: 0.104\n",
      "Epoch: 5/5..  Training Loss: 2.306..  Test Loss: 2.303..  Test Accuracy: 0.098\n",
      "Epoch: 5/5..  Training Loss: 2.305..  Test Loss: 2.307..  Test Accuracy: 0.090\n",
      "Epoch: 5/5..  Training Loss: 2.307..  Test Loss: 2.303..  Test Accuracy: 0.101\n",
      "Epoch: 5/5..  Training Loss: 2.304..  Test Loss: 2.293..  Test Accuracy: 0.136\n"
     ]
    }
   ],
   "source": [
    "#hiperparámetro\n",
    "epochs = 5\n",
    "steps = 0\n",
    "running_loss = 0\n",
    "print_every = 40\n",
    "for e in range(epochs):\n",
    "    # Cambiamos a modo entrenamiento\n",
    "    model.train()\n",
    "    for images, labels in trainloader:\n",
    "        steps += 1\n",
    "        \n",
    "        # Aplanar imágenes a un vector de 784 elementos\n",
    "        images.resize_(images.size()[0], 784)\n",
    "        \n",
    "        optimizer.zero_grad()\n",
    "        \n",
    "        output = model.forward(images)\n",
    "        loss = criterion(output, labels)\n",
    "        # Backprogamation\n",
    "        loss.backward()\n",
    "        # Optimización\n",
    "        optimizer.step()\n",
    "        \n",
    "        running_loss += loss.item()\n",
    "        \n",
    "        if steps % print_every == 0:\n",
    "            # Cambiamos a modo de evaluación\n",
    "            model.eval()\n",
    "            \n",
    "            # Apagamos los gradientes, reduce memoria y cálculos\n",
    "            with torch.no_grad():\n",
    "                test_loss, accuracy = validation(model, testloader, criterion)\n",
    "                \n",
    "            print(\"Epoch: {}/{}.. \".format(e+1, epochs),\n",
    "                  \"Training Loss: {:.3f}.. \".format(running_loss/print_every),\n",
    "                  \"Test Loss: {:.3f}.. \".format(test_loss/len(testloader)),\n",
    "                  \"Test Accuracy: {:.3f}\".format(accuracy/len(testloader)))\n",
    "            \n",
    "            running_loss = 0\n",
    "            \n",
    "            # Make sure training is back on\n",
    "            model.train()"
   ]
  },
  {
   "cell_type": "markdown",
   "metadata": {},
   "source": [
    "## Inferencia \n",
    "\n",
    "Let's probe the neural network "
   ]
  },
  {
   "cell_type": "code",
   "execution_count": 8,
   "metadata": {},
   "outputs": [
    {
     "data": {
      "image/png": "[encoded data removed]",
      "text/plain": [
       "<matplotlib.figure.Figure at 0x29163f3a8d0>"
      ]
     },
     "metadata": {
      "image/png": {
       "height": 224,
       "width": 423
      },
      "needs_background": "light"
     },
     "output_type": "display_data"
    }
   ],
   "source": [
    "# Probemos la red!\n",
    "\n",
    "model.eval()\n",
    "\n",
    "dataiter = iter(testloader)\n",
    "images, labels = dataiter.next()\n",
    "images.resize_(images.shape[0], 1, 784)\n",
    "img = images[0]\n",
    "# Aplanamos la imagenes\n",
    "img = img.view(1, 784)\n",
    "\n",
    "# Estimamos para  cada imagen la probabilidad de pertenencia a una clase (softmax)\n",
    "with torch.no_grad():\n",
    "    output = model.forward(img)\n",
    "\n",
    "ps = torch.exp(output)\n",
    "\n",
    "# Graficamos\n",
    "helper.view_classify(img.view(1, 28, 28), ps)"
   ]
  },
  {
   "cell_type": "code",
   "execution_count": null,
   "metadata": {},
   "outputs": [],
   "source": []
  },
  {
   "cell_type": "code",
   "execution_count": null,
   "metadata": {},
   "outputs": [],
   "source": []
  }
 ],
 "metadata": {
  "kernelspec": {
   "display_name": "Python 3",
   "language": "python",
   "name": "python3"
  },
  "language_info": {
   "codemirror_mode": {
    "name": "ipython",
    "version": 3
   },
   "file_extension": ".py",
   "mimetype": "text/x-python",
   "name": "python",
   "nbconvert_exporter": "python",
   "pygments_lexer": "ipython3",
   "version": "3.6.5"
  }
 },
 "nbformat": 4,
 "nbformat_minor": 2
}

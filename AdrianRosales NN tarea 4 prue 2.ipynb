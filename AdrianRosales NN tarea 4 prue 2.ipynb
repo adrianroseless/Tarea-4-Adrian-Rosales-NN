{
 "cells": [
  {
   "cell_type": "markdown",
   "metadata": {},
   "source": [
    "# Validación\n",
    "\n",
    "Hasta el momento hemos logrado entrenar la red, es decir, encontrar los pesos tal que se reduce el error entre la salida de la red y la salida esperada. Con los pesos entrenados, la red pude predecir la clase que corresponde a una entrada que no ha visto. Este proceso de predicción conocido como inferencia es la parte más interesante de las redes ya que permite generalizar su uso a casos no vistos. Sin embargo, durante el entrenamiento se puede suscitar un fenómeno conocido como sobre-ajuste (overfitting), donde la red reduce de manera adecuada la pérdida con respecto a los datos de entrenamiento, pero al momento de encontrarse con ejemplos desconocidos, ésta tiene un rendimiento pobre. Este efecto es contrario, por que buscamos **generalizar** el rendimiento de tal forma que clasifique bien ejemplos que no han sido vistos. \n",
    "\n",
    "Para saber que tan bien está generalizando la red se realiza un proceso de validación. En este proceso de validación se verifican las predicciones de la red en un conjunto de datos de validación (En la literatura a este conjunto también se le denomina de prueba).\n",
    "\n",
    "En el resto del notebook veremos como realizar la validación de la red durante el entrenamiento.\n",
    "\n",
    "También haremos uso del *dropout*"
   ]
  },
  {
   "cell_type": "code",
   "execution_count": 1,
   "metadata": {},
   "outputs": [],
   "source": [
    "# Cargamos paquetes necesarios\n",
    "\n",
    "%matplotlib inline\n",
    "%config InlineBackend.figure_format = 'retina'\n",
    "\n",
    "import matplotlib.pyplot as plt\n",
    "import numpy as np\n",
    "import time\n",
    "\n",
    "import torch\n",
    "from torch import nn\n",
    "from torch import optim\n",
    "import torch.nn.functional as F\n",
    "from torchvision import datasets, transforms\n",
    "\n",
    "#helper was developed by Udacity under MIT license\n",
    "import helper"
   ]
  },
  {
   "cell_type": "markdown",
   "metadata": {},
   "source": [
    "## Conjunto de datos (Dataset)\n",
    "\n",
    "Para este ejemplo utilizaremos el Fashion MNIST. Este dataset esta constituido por imágenes de 28 x 28 pixeles y cada imagen contiene prendas como ropa o zapatos.  "
   ]
  },
  {
   "cell_type": "code",
   "execution_count": 2,
   "metadata": {},
   "outputs": [
    {
     "name": "stdout",
     "output_type": "stream",
     "text": [
      "Dataset Size: {Dataset FashionMNIST\n",
      "    Number of datapoints: 60000\n",
      "    Split: train\n",
      "    Root Location: Fashion/\n",
      "    Transforms (if any): Compose(\n",
      "                             ToTensor()\n",
      "                             Normalize(mean=(0.5, 0.5, 0.5), std=(0.5, 0.5, 0.5))\n",
      "                         )\n",
      "    Target Transforms (if any): None: 60000, Dataset FashionMNIST\n",
      "    Number of datapoints: 10000\n",
      "    Split: test\n",
      "    Root Location: Fashion/\n",
      "    Transforms (if any): Compose(\n",
      "                             ToTensor()\n",
      "                             Normalize(mean=(0.5, 0.5, 0.5), std=(0.5, 0.5, 0.5))\n",
      "                         )\n",
      "    Target Transforms (if any): None: 10000}\n",
      "\n"
     ]
    }
   ],
   "source": [
    "# Definimos una transformación de los datos\n",
    "transform = transforms.Compose([transforms.ToTensor(),\n",
    "                                transforms.Normalize((0.5, 0.5, 0.5), (0.5, 0.5, 0.5))])\n",
    "# Descargamos el conjunto de entrenamiento y cargamos mediante un dataLoader\n",
    "trainset = datasets.FashionMNIST('Fashion/', download=True, train=True, transform=transform)\n",
    "trainloader = torch.utils.data.DataLoader(trainset, batch_size=64, shuffle=True)\n",
    "\n",
    "# Descargamos el conjunto de validación\n",
    "testset = datasets.FashionMNIST('Fashion/', download=True, train=False, transform=transform)\n",
    "testloader = torch.utils.data.DataLoader(testset, batch_size=64, shuffle=True)\n",
    "\n",
    "#TODO: Know your data\n",
    "dataset_sizes = {x: len(x) for x in [trainset, testset]}\n",
    "\n",
    "print (\"Dataset Size: \"+ str(dataset_sizes) + \"\\n\")\n"
   ]
  },
  {
   "cell_type": "markdown",
   "metadata": {},
   "source": [
    "## Red Neuronal\n",
    "\n",
    "En esta ocasión, construiremos la red de forma más general, donde las capas ocultas se generarán a partir de un vector que indica el número de capas y el número de nodos de cada capa. Haremos uso del módulo *nn.ModuleList* que nos permitirá crear un número arbitrario de capas. En cierta forma *nn.ModuleList* se comporta como una lista simple de python. "
   ]
  },
  {
   "cell_type": "code",
   "execution_count": 3,
   "metadata": {},
   "outputs": [],
   "source": [
    "class RedNeuronal(nn.Module):\n",
    "    def __init__(self, input_size, output_size, hidden_layers, drop_p = 0.5):\n",
    "        '''\n",
    "        Construye una red de tamaño arbitrario.\n",
    "        \n",
    "        Parámetros:\n",
    "        input_size: cantidad de elementos en la entrada\n",
    "        output_size: cantidada de elementos en la salida \n",
    "        hidden_layers: cantidad de elementos por cada capa oculta\n",
    "        drop_p: probabilidad de \"tirar\" (drop) una neurona [0,1] \n",
    "        '''\n",
    "        # llamamos al constructor de la superclase\n",
    "        super().__init__()\n",
    "        \n",
    "        # Agregamos la primera capa\n",
    "        self.hidden_layers = nn.ModuleList([nn.Linear(input_size, hidden_layers[0])])\n",
    "        \n",
    "        # agregamos cada una de las capas, zip empareja el número de entradas con las salidas\n",
    "        layer_sizes = zip(hidden_layers[:-1], hidden_layers[1:])\n",
    "        self.hidden_layers.extend([nn.Linear(h1, h2) for h1, h2 in layer_sizes])\n",
    "        \n",
    "        # agregamos la capa de salida final de la red\n",
    "        self.output = nn.Linear(hidden_layers[-1], output_size)\n",
    "        \n",
    "        # Incluimos drop-out en la red\n",
    "        self.dropout = nn.Dropout(p=drop_p)\n",
    "        \n",
    "    def forward(self, x):\n",
    "        ''' Pase hacia adelante en la red, el regreso son las probabilidades en el dominio log '''\n",
    "        \n",
    "        # Hacemos un pase frontal en cada una de las capas ocultas, \n",
    "        # La funció de activación es un RELU combinado con dropout\n",
    "        for linear in self.hidden_layers:\n",
    "            x = F.relu(linear(x))\n",
    "            x = self.dropout(x)\n",
    "        \n",
    "        x = self.output(x)\n",
    "        \n",
    "        return F.log_softmax(x, dim=1)"
   ]
  },
  {
   "cell_type": "markdown",
   "metadata": {},
   "source": [
    "## Entrenamiento\n",
    "\n",
    "La pérdida (loss) nos indica que tan bien o mal está clasificando nuestra red. Dado que estamos utilizando el dominio log para calcular las salidas de la red, utilizaremos el criterio negative log loss *nn.NLLLoss()*. Como optimizador utilzaremos ADAM optimzer, el cual combina el gradiente descendiente estocástico con el momentum. "
   ]
  },
  {
   "cell_type": "code",
   "execution_count": 4,
   "metadata": {},
   "outputs": [],
   "source": [
    "# Create the network, define the criterion and optimizer\n",
    "model = RedNeuronal(784, 10, [800, 400], drop_p=0.45)\n",
    "criterion = nn.NLLLoss()\n",
    "optimizer = optim.Adam(model.parameters(), lr=0.002)"
   ]
  },
  {
   "cell_type": "markdown",
   "metadata": {},
   "source": [
    "Ahora programaremos la validación. En esta etapa se mide la exactitud de la red en el conjunto de prueba a fin de ver que tan bien está generalizando la red. Como estamos utilizando drop out durante el entrenamiento al momento de hacer una inferencia este proceso se debe desactivar. Afortunadamente pytorch provee dos modos de funcionamiento para la red: entrenamiento o evaluación, model.train() y model.eval() respectivamente.  "
   ]
  },
  {
   "cell_type": "code",
   "execution_count": 5,
   "metadata": {},
   "outputs": [],
   "source": [
    "# Implementamos una función de evaluación\n",
    "def validation(model, testloader, criterion):\n",
    "    test_loss = 0\n",
    "    accuracy = 0\n",
    "    for images, labels in testloader:\n",
    "\n",
    "        images.resize_(images.shape[0], 784)\n",
    "\n",
    "        output = model.forward(images)\n",
    "        test_loss += criterion(output, labels).item()\n",
    "\n",
    "        ps = torch.exp(output)\n",
    "        equality = (labels.data == ps.max(dim=1)[1])\n",
    "        accuracy += equality.type(torch.FloatTensor).mean()\n",
    "    \n",
    "    return test_loss, accuracy"
   ]
  },
  {
   "cell_type": "markdown",
   "metadata": {},
   "source": [
    "### Implementación del entrenamiento y validación\n",
    "\n"
   ]
  },
  {
   "cell_type": "code",
   "execution_count": 6,
   "metadata": {},
   "outputs": [
    {
     "name": "stdout",
     "output_type": "stream",
     "text": [
      "Epoch: 1/5..  Training Loss: 0.868..  Test Loss: 0.655..  Test Accuracy: 0.749\n",
      "Epoch: 1/5..  Training Loss: 0.654..  Test Loss: 0.571..  Test Accuracy: 0.787\n",
      "Epoch: 1/5..  Training Loss: 0.617..  Test Loss: 0.554..  Test Accuracy: 0.794\n",
      "Epoch: 1/5..  Training Loss: 0.621..  Test Loss: 0.526..  Test Accuracy: 0.812\n",
      "Epoch: 1/5..  Training Loss: 0.596..  Test Loss: 0.535..  Test Accuracy: 0.800\n",
      "Epoch: 1/5..  Training Loss: 0.597..  Test Loss: 0.527..  Test Accuracy: 0.810\n",
      "Epoch: 1/5..  Training Loss: 0.577..  Test Loss: 0.517..  Test Accuracy: 0.818\n",
      "Epoch: 1/5..  Training Loss: 0.574..  Test Loss: 0.479..  Test Accuracy: 0.826\n",
      "Epoch: 1/5..  Training Loss: 0.582..  Test Loss: 0.488..  Test Accuracy: 0.826\n",
      "Epoch: 2/5..  Training Loss: 0.521..  Test Loss: 0.480..  Test Accuracy: 0.822\n",
      "Epoch: 2/5..  Training Loss: 0.550..  Test Loss: 0.488..  Test Accuracy: 0.830\n",
      "Epoch: 2/5..  Training Loss: 0.552..  Test Loss: 0.466..  Test Accuracy: 0.831\n",
      "Epoch: 2/5..  Training Loss: 0.542..  Test Loss: 0.463..  Test Accuracy: 0.830\n",
      "Epoch: 2/5..  Training Loss: 0.524..  Test Loss: 0.478..  Test Accuracy: 0.819\n",
      "Epoch: 2/5..  Training Loss: 0.538..  Test Loss: 0.460..  Test Accuracy: 0.833\n",
      "Epoch: 2/5..  Training Loss: 0.524..  Test Loss: 0.448..  Test Accuracy: 0.841\n",
      "Epoch: 2/5..  Training Loss: 0.539..  Test Loss: 0.436..  Test Accuracy: 0.840\n",
      "Epoch: 2/5..  Training Loss: 0.538..  Test Loss: 0.458..  Test Accuracy: 0.836\n",
      "Epoch: 3/5..  Training Loss: 0.517..  Test Loss: 0.460..  Test Accuracy: 0.839\n",
      "Epoch: 3/5..  Training Loss: 0.514..  Test Loss: 0.448..  Test Accuracy: 0.830\n",
      "Epoch: 3/5..  Training Loss: 0.527..  Test Loss: 0.446..  Test Accuracy: 0.841\n",
      "Epoch: 3/5..  Training Loss: 0.514..  Test Loss: 0.434..  Test Accuracy: 0.844\n",
      "Epoch: 3/5..  Training Loss: 0.498..  Test Loss: 0.442..  Test Accuracy: 0.835\n",
      "Epoch: 3/5..  Training Loss: 0.505..  Test Loss: 0.451..  Test Accuracy: 0.839\n",
      "Epoch: 3/5..  Training Loss: 0.505..  Test Loss: 0.463..  Test Accuracy: 0.835\n",
      "Epoch: 3/5..  Training Loss: 0.503..  Test Loss: 0.446..  Test Accuracy: 0.838\n",
      "Epoch: 3/5..  Training Loss: 0.494..  Test Loss: 0.426..  Test Accuracy: 0.843\n",
      "Epoch: 3/5..  Training Loss: 0.499..  Test Loss: 0.428..  Test Accuracy: 0.841\n",
      "Epoch: 4/5..  Training Loss: 0.499..  Test Loss: 0.428..  Test Accuracy: 0.841\n",
      "Epoch: 4/5..  Training Loss: 0.492..  Test Loss: 0.439..  Test Accuracy: 0.839\n",
      "Epoch: 4/5..  Training Loss: 0.498..  Test Loss: 0.420..  Test Accuracy: 0.851\n",
      "Epoch: 4/5..  Training Loss: 0.482..  Test Loss: 0.447..  Test Accuracy: 0.833\n",
      "Epoch: 4/5..  Training Loss: 0.515..  Test Loss: 0.430..  Test Accuracy: 0.842\n",
      "Epoch: 4/5..  Training Loss: 0.484..  Test Loss: 0.437..  Test Accuracy: 0.838\n",
      "Epoch: 4/5..  Training Loss: 0.486..  Test Loss: 0.428..  Test Accuracy: 0.844\n",
      "Epoch: 4/5..  Training Loss: 0.505..  Test Loss: 0.451..  Test Accuracy: 0.833\n",
      "Epoch: 4/5..  Training Loss: 0.501..  Test Loss: 0.414..  Test Accuracy: 0.850\n",
      "Epoch: 5/5..  Training Loss: 0.484..  Test Loss: 0.428..  Test Accuracy: 0.844\n",
      "Epoch: 5/5..  Training Loss: 0.467..  Test Loss: 0.426..  Test Accuracy: 0.843\n",
      "Epoch: 5/5..  Training Loss: 0.490..  Test Loss: 0.425..  Test Accuracy: 0.844\n",
      "Epoch: 5/5..  Training Loss: 0.495..  Test Loss: 0.429..  Test Accuracy: 0.839\n",
      "Epoch: 5/5..  Training Loss: 0.469..  Test Loss: 0.410..  Test Accuracy: 0.852\n",
      "Epoch: 5/5..  Training Loss: 0.480..  Test Loss: 0.423..  Test Accuracy: 0.846\n",
      "Epoch: 5/5..  Training Loss: 0.471..  Test Loss: 0.415..  Test Accuracy: 0.849\n",
      "Epoch: 5/5..  Training Loss: 0.461..  Test Loss: 0.407..  Test Accuracy: 0.856\n",
      "Epoch: 5/5..  Training Loss: 0.475..  Test Loss: 0.445..  Test Accuracy: 0.844\n"
     ]
    }
   ],
   "source": [
    "#hiperparámetro\n",
    "epochs = 5\n",
    "steps = 0\n",
    "running_loss = 0\n",
    "print_every = 100\n",
    "for e in range(epochs):\n",
    "    # Cambiamos a modo entrenamiento\n",
    "    model.train()\n",
    "    for images, labels in trainloader:\n",
    "        steps += 1\n",
    "        \n",
    "        # Aplanar imágenes a un vector de 784 elementos\n",
    "        images.resize_(images.size()[0], 784)\n",
    "        \n",
    "        optimizer.zero_grad()\n",
    "        \n",
    "        output = model.forward(images)\n",
    "        loss = criterion(output, labels)\n",
    "        # Backprogamation\n",
    "        loss.backward()\n",
    "        # Optimización\n",
    "        optimizer.step()\n",
    "        \n",
    "        running_loss += loss.item()\n",
    "        \n",
    "        if steps % print_every == 0:\n",
    "            # Cambiamos a modo de evaluación\n",
    "            model.eval()\n",
    "            \n",
    "            # Apagamos los gradientes, reduce memoria y cálculos\n",
    "            with torch.no_grad():\n",
    "                test_loss, accuracy = validation(model, testloader, criterion)\n",
    "                \n",
    "            print(\"Epoch: {}/{}.. \".format(e+1, epochs),\n",
    "                  \"Training Loss: {:.3f}.. \".format(running_loss/print_every),\n",
    "                  \"Test Loss: {:.3f}.. \".format(test_loss/len(testloader)),\n",
    "                  \"Test Accuracy: {:.3f}\".format(accuracy/len(testloader)))\n",
    "            \n",
    "            running_loss = 0\n",
    "            \n",
    "            # Make sure training is back on\n",
    "            model.train()"
   ]
  },
  {
   "cell_type": "markdown",
   "metadata": {},
   "source": [
    "## Inferencia\n",
    "\n",
    "Ahora que ya hemos entrenado la red vamos a probar cual es su rendimiento en la clasificación de las prendas de vestir. "
   ]
  },
  {
   "cell_type": "code",
   "execution_count": 9,
   "metadata": {},
   "outputs": [
    {
     "data": {
      "image/png": "[encoded data removed]",
      "text/plain": [
       "<matplotlib.figure.Figure at 0x2139ca37358>"
      ]
     },
     "metadata": {
      "image/png": {
       "height": 204,
       "width": 423
      },
      "needs_background": "light"
     },
     "output_type": "display_data"
    }
   ],
   "source": [
    "# Probemos la red!\n",
    "\n",
    "model.eval()\n",
    "\n",
    "dataiter = iter(testloader)\n",
    "images, labels = dataiter.next()\n",
    "img = images[0]\n",
    "# Aplanamos la imagenes\n",
    "img = img.view(1, 784)\n",
    "\n",
    "# Estimamos para cada imagen la probabilidad de pertenencia a una clase (softmax)\n",
    "with torch.no_grad():\n",
    "    output = model.forward(img)\n",
    "\n",
    "ps = torch.exp(output)\n",
    "\n",
    "# Graficamos\n",
    "helper.view_classify(img.view(1, 28, 28), ps, version='Fashion')"
   ]
  },
  {
   "cell_type": "code",
   "execution_count": null,
   "metadata": {},
   "outputs": [],
   "source": []
  },
  {
   "cell_type": "code",
   "execution_count": null,
   "metadata": {},
   "outputs": [],
   "source": []
  }
 ],
 "metadata": {
  "kernelspec": {
   "display_name": "Python 3",
   "language": "python",
   "name": "python3"
  },
  "language_info": {
   "codemirror_mode": {
    "name": "ipython",
    "version": 3
   },
   "file_extension": ".py",
   "mimetype": "text/x-python",
   "name": "python",
   "nbconvert_exporter": "python",
   "pygments_lexer": "ipython3",
   "version": "3.6.5"
  },
  "widgets": {
   "state": {},
   "version": "1.1.2"
  }
 },
 "nbformat": 4,
 "nbformat_minor": 2
}
